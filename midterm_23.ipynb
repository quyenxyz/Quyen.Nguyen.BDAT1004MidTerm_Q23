{
 "cells": [
  {
   "cell_type": "code",
   "execution_count": 23,
   "id": "0b34b579",
   "metadata": {},
   "outputs": [],
   "source": [
    "def tough(indent, pattern):\n",
    "    if pattern == 0:\n",
    "        return\n",
    "    else:\n",
    "        # spaces for the given indentation\n",
    "        print(\" \" * indent, end=\"\")\n",
    "\n",
    "        # the first line of stars\n",
    "        print(\"*\" * (pattern - 1))\n",
    "\n",
    "        # Recursive call\n",
    "        tough(indent + 2, pattern - 1)\n",
    "\n",
    "        # spaces for the given indentation\n",
    "        print(\" \" * indent, end=\"\")\n",
    "\n",
    "        # the second line of stars\n",
    "        print(\"*\" * pattern)\n",
    "\n",
    "        # Recursive call\n",
    "        tough(indent, pattern - 1)\n",
    "\n"
   ]
  },
  {
   "cell_type": "code",
   "execution_count": 25,
   "id": "edaea49d",
   "metadata": {},
   "outputs": [],
   "source": [
    "# Test\n",
    "tough(0, 0)"
   ]
  },
  {
   "cell_type": "code",
   "execution_count": 26,
   "id": "efb1fb0b",
   "metadata": {},
   "outputs": [
    {
     "name": "stdout",
     "output_type": "stream",
     "text": [
      "\n",
      "*\n"
     ]
    }
   ],
   "source": [
    "tough(0, 1)"
   ]
  },
  {
   "cell_type": "code",
   "execution_count": 27,
   "id": "604406ff",
   "metadata": {},
   "outputs": [
    {
     "name": "stdout",
     "output_type": "stream",
     "text": [
      "*\n",
      "  \n",
      "  *\n",
      "**\n",
      "\n",
      "*\n"
     ]
    }
   ],
   "source": [
    "tough(0, 2)"
   ]
  },
  {
   "cell_type": "code",
   "execution_count": 28,
   "id": "c905691d",
   "metadata": {},
   "outputs": [
    {
     "name": "stdout",
     "output_type": "stream",
     "text": [
      "***\n",
      "  **\n",
      "    *\n",
      "      \n",
      "      *\n",
      "    **\n",
      "    \n",
      "    *\n",
      "  ***\n",
      "  *\n",
      "    \n",
      "    *\n",
      "  **\n",
      "  \n",
      "  *\n",
      "****\n",
      "**\n",
      "  *\n",
      "    \n",
      "    *\n",
      "  **\n",
      "  \n",
      "  *\n",
      "***\n",
      "*\n",
      "  \n",
      "  *\n",
      "**\n",
      "\n",
      "*\n"
     ]
    }
   ],
   "source": [
    "tough(0, 4)"
   ]
  },
  {
   "cell_type": "code",
   "execution_count": null,
   "id": "cd9daede",
   "metadata": {},
   "outputs": [],
   "source": []
  },
  {
   "cell_type": "code",
   "execution_count": null,
   "id": "28c44b33",
   "metadata": {},
   "outputs": [],
   "source": []
  }
 ],
 "metadata": {
  "kernelspec": {
   "display_name": "Python 3 (ipykernel)",
   "language": "python",
   "name": "python3"
  },
  "language_info": {
   "codemirror_mode": {
    "name": "ipython",
    "version": 3
   },
   "file_extension": ".py",
   "mimetype": "text/x-python",
   "name": "python",
   "nbconvert_exporter": "python",
   "pygments_lexer": "ipython3",
   "version": "3.11.5"
  }
 },
 "nbformat": 4,
 "nbformat_minor": 5
}
